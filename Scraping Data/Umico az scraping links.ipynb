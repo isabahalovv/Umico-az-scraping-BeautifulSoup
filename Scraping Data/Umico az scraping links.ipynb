{
 "cells": [
  {
   "cell_type": "code",
   "execution_count": 6,
   "id": "804717b4",
   "metadata": {},
   "outputs": [],
   "source": [
    "import requests\n",
    "from bs4 import BeautifulSoup as bs\n",
    "import pandas as pd"
   ]
  },
  {
   "cell_type": "code",
   "execution_count": 2,
   "id": "e797f3e0",
   "metadata": {},
   "outputs": [],
   "source": [
    "base_url = 'https://umico.az'\n",
    "all_links = []\n",
    "\n",
    "for page_num in range(1,101):\n",
    "    \n",
    "    url = 'https://umico.az/categories/3-mobil-telefonlar-ve-smartfonlar?page={}'.format(page_num)\n",
    "    request = requests.get(url)\n",
    "    soup = bs(request.content, 'html.parser')\n",
    "    \n",
    "    page = soup.find_all('div', {'class':'MPProductItem'})\n",
    "    links = [base_url + x.div.a['href'] for  x in page]\n",
    "    \n",
    "    all_links.extend(links)"
   ]
  },
  {
   "cell_type": "code",
   "execution_count": 4,
   "id": "c5e3a0f8",
   "metadata": {},
   "outputs": [
    {
     "data": {
      "text/plain": [
       "2333"
      ]
     },
     "execution_count": 4,
     "metadata": {},
     "output_type": "execute_result"
    }
   ],
   "source": [
    "len(all_links)"
   ]
  },
  {
   "cell_type": "code",
   "execution_count": 7,
   "id": "29e8e189",
   "metadata": {},
   "outputs": [],
   "source": [
    "umico_az_links = pd.DataFrame({'All links':all_links})"
   ]
  },
  {
   "cell_type": "code",
   "execution_count": 9,
   "id": "72faa688",
   "metadata": {},
   "outputs": [],
   "source": [
    "umico_az_links.to_csv('umico_az_links.csv', index=False)"
   ]
  }
 ],
 "metadata": {
  "kernelspec": {
   "display_name": "Python 3 (ipykernel)",
   "language": "python",
   "name": "python3"
  },
  "language_info": {
   "codemirror_mode": {
    "name": "ipython",
    "version": 3
   },
   "file_extension": ".py",
   "mimetype": "text/x-python",
   "name": "python",
   "nbconvert_exporter": "python",
   "pygments_lexer": "ipython3",
   "version": "3.10.7"
  }
 },
 "nbformat": 4,
 "nbformat_minor": 5
}
